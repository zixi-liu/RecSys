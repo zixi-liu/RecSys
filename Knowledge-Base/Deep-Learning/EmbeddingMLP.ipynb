{
 "cells": [
  {
   "cell_type": "markdown",
   "id": "0fda3b33",
   "metadata": {},
   "source": [
    "## Embedding + MLP (Tensorflow)"
   ]
  },
  {
   "cell_type": "code",
   "execution_count": 1,
   "id": "b724beb4",
   "metadata": {},
   "outputs": [],
   "source": [
    "import tensorflow as tf"
   ]
  },
  {
   "cell_type": "markdown",
   "id": "0e55e4b2",
   "metadata": {},
   "source": [
    "#### 1. Load Sample Data"
   ]
  },
  {
   "cell_type": "code",
   "execution_count": 8,
   "id": "b8fc6224",
   "metadata": {},
   "outputs": [
    {
     "name": "stderr",
     "output_type": "stream",
     "text": [
      "2022-04-03 16:09:32.873036: I tensorflow/core/platform/cpu_feature_guard.cc:151] This TensorFlow binary is optimized with oneAPI Deep Neural Network Library (oneDNN) to use the following CPU instructions in performance-critical operations:  AVX2 FMA\n",
      "To enable them in other operations, rebuild TensorFlow with the appropriate compiler flags.\n"
     ]
    }
   ],
   "source": [
    "# Training samples path\n",
    "training_samples_file_path = tf.keras.utils.get_file(\"trainingSamples.csv\",\n",
    "                                                     \"file:///Users/zliu/Desktop/PythonProjects/SampleData/trainingSamples.csv\")\n",
    "# Test samples path\n",
    "test_samples_file_path = tf.keras.utils.get_file(\"testSamples.csv\",\n",
    "                                                 \"file:///Users/zliu/Desktop/PythonProjects/SampleData/testSamples.csv\")\n",
    "\n",
    "# load sample as tf dataset\n",
    "def get_dataset(file_path):\n",
    "    dataset = tf.data.experimental.make_csv_dataset(\n",
    "        file_path,\n",
    "        batch_size=12,\n",
    "        label_name='label',\n",
    "        na_value=\"0\",\n",
    "        num_epochs=1,\n",
    "        ignore_errors=True)\n",
    "    return dataset\n",
    "\n",
    "\n",
    "# split as test dataset and training dataset\n",
    "train_dataset = get_dataset(training_samples_file_path)\n",
    "test_dataset = get_dataset(test_samples_file_path)"
   ]
  },
  {
   "cell_type": "code",
   "execution_count": 11,
   "id": "0ed6069a",
   "metadata": {},
   "outputs": [],
   "source": [
    "# genre features vocabulary\n",
    "genre_vocab = ['Film-Noir', 'Action', 'Adventure', 'Horror', 'Romance', 'War', 'Comedy', 'Western', 'Documentary',\n",
    "               'Sci-Fi', 'Drama', 'Thriller',\n",
    "               'Crime', 'Fantasy', 'Animation', 'IMAX', 'Mystery', 'Children', 'Musical']\n",
    "\n",
    "GENRE_FEATURES = {\n",
    "    'userGenre1': genre_vocab,\n",
    "    'userGenre2': genre_vocab,\n",
    "    'userGenre3': genre_vocab,\n",
    "    'userGenre4': genre_vocab,\n",
    "    'userGenre5': genre_vocab,\n",
    "    'movieGenre1': genre_vocab,\n",
    "    'movieGenre2': genre_vocab,\n",
    "    'movieGenre3': genre_vocab\n",
    "}"
   ]
  },
  {
   "cell_type": "code",
   "execution_count": 14,
   "id": "8a8b6589",
   "metadata": {},
   "outputs": [],
   "source": [
    "# all categorical features\n",
    "categorical_columns = []\n",
    "for feature, vocab in GENRE_FEATURES.items():\n",
    "    cat_col = tf.feature_column.categorical_column_with_vocabulary_list(\n",
    "        key=feature, vocabulary_list=vocab)\n",
    "    emb_col = tf.feature_column.embedding_column(cat_col, 10)\n",
    "    categorical_columns.append(emb_col)\n",
    "    \n",
    "# movie id embedding feature\n",
    "movie_col = tf.feature_column.categorical_column_with_identity(key='movieId', num_buckets=1001)\n",
    "movie_emb_col = tf.feature_column.embedding_column(movie_col, 10)\n",
    "categorical_columns.append(movie_emb_col)"
   ]
  },
  {
   "cell_type": "code",
   "execution_count": 15,
   "id": "4689d7a8",
   "metadata": {},
   "outputs": [],
   "source": [
    "# all numerical features\n",
    "numerical_columns = [tf.feature_column.numeric_column('releaseYear'),\n",
    "                     tf.feature_column.numeric_column('movieRatingCount'),\n",
    "                     tf.feature_column.numeric_column('movieAvgRating'),\n",
    "                     tf.feature_column.numeric_column('movieRatingStddev'),\n",
    "                     tf.feature_column.numeric_column('userRatingCount'),\n",
    "                     tf.feature_column.numeric_column('userAvgRating'),\n",
    "                     tf.feature_column.numeric_column('userRatingStddev')]"
   ]
  },
  {
   "cell_type": "code",
   "execution_count": 16,
   "id": "04448af6",
   "metadata": {},
   "outputs": [],
   "source": [
    "# embedding + MLP model architecture\n",
    "model = tf.keras.Sequential([\n",
    "    tf.keras.layers.DenseFeatures(numerical_columns + categorical_columns),\n",
    "    tf.keras.layers.Dense(128, activation='relu'),\n",
    "    tf.keras.layers.Dense(128, activation='relu'),\n",
    "    tf.keras.layers.Dense(1, activation='sigmoid')])"
   ]
  },
  {
   "cell_type": "code",
   "execution_count": 17,
   "id": "48377992",
   "metadata": {},
   "outputs": [
    {
     "name": "stdout",
     "output_type": "stream",
     "text": [
      "Epoch 1/5\n",
      "WARNING:tensorflow:Layers in a Sequential model should only have a single input tensor. Received: inputs=OrderedDict([('movieId', <tf.Tensor 'IteratorGetNext:4' shape=(None,) dtype=int32>), ('userId', <tf.Tensor 'IteratorGetNext:17' shape=(None,) dtype=int32>), ('rating', <tf.Tensor 'IteratorGetNext:7' shape=(None,) dtype=float32>), ('timestamp', <tf.Tensor 'IteratorGetNext:9' shape=(None,) dtype=int32>), ('releaseYear', <tf.Tensor 'IteratorGetNext:8' shape=(None,) dtype=int32>), ('movieGenre1', <tf.Tensor 'IteratorGetNext:1' shape=(None,) dtype=string>), ('movieGenre2', <tf.Tensor 'IteratorGetNext:2' shape=(None,) dtype=string>), ('movieGenre3', <tf.Tensor 'IteratorGetNext:3' shape=(None,) dtype=string>), ('movieRatingCount', <tf.Tensor 'IteratorGetNext:5' shape=(None,) dtype=int32>), ('movieAvgRating', <tf.Tensor 'IteratorGetNext:0' shape=(None,) dtype=float32>), ('movieRatingStddev', <tf.Tensor 'IteratorGetNext:6' shape=(None,) dtype=float32>), ('userRatedMovie1', <tf.Tensor 'IteratorGetNext:18' shape=(None,) dtype=int32>), ('userRatedMovie2', <tf.Tensor 'IteratorGetNext:19' shape=(None,) dtype=int32>), ('userRatedMovie3', <tf.Tensor 'IteratorGetNext:20' shape=(None,) dtype=int32>), ('userRatedMovie4', <tf.Tensor 'IteratorGetNext:21' shape=(None,) dtype=int32>), ('userRatedMovie5', <tf.Tensor 'IteratorGetNext:22' shape=(None,) dtype=int32>), ('userRatingCount', <tf.Tensor 'IteratorGetNext:23' shape=(None,) dtype=int32>), ('userAvgReleaseYear', <tf.Tensor 'IteratorGetNext:11' shape=(None,) dtype=int32>), ('userReleaseYearStddev', <tf.Tensor 'IteratorGetNext:25' shape=(None,) dtype=float32>), ('userAvgRating', <tf.Tensor 'IteratorGetNext:10' shape=(None,) dtype=float32>), ('userRatingStddev', <tf.Tensor 'IteratorGetNext:24' shape=(None,) dtype=float32>), ('userGenre1', <tf.Tensor 'IteratorGetNext:12' shape=(None,) dtype=string>), ('userGenre2', <tf.Tensor 'IteratorGetNext:13' shape=(None,) dtype=string>), ('userGenre3', <tf.Tensor 'IteratorGetNext:14' shape=(None,) dtype=string>), ('userGenre4', <tf.Tensor 'IteratorGetNext:15' shape=(None,) dtype=string>), ('userGenre5', <tf.Tensor 'IteratorGetNext:16' shape=(None,) dtype=string>)]). Consider rewriting this model with the Functional API.\n",
      "WARNING:tensorflow:Layers in a Sequential model should only have a single input tensor. Received: inputs=OrderedDict([('movieId', <tf.Tensor 'IteratorGetNext:4' shape=(None,) dtype=int32>), ('userId', <tf.Tensor 'IteratorGetNext:17' shape=(None,) dtype=int32>), ('rating', <tf.Tensor 'IteratorGetNext:7' shape=(None,) dtype=float32>), ('timestamp', <tf.Tensor 'IteratorGetNext:9' shape=(None,) dtype=int32>), ('releaseYear', <tf.Tensor 'IteratorGetNext:8' shape=(None,) dtype=int32>), ('movieGenre1', <tf.Tensor 'IteratorGetNext:1' shape=(None,) dtype=string>), ('movieGenre2', <tf.Tensor 'IteratorGetNext:2' shape=(None,) dtype=string>), ('movieGenre3', <tf.Tensor 'IteratorGetNext:3' shape=(None,) dtype=string>), ('movieRatingCount', <tf.Tensor 'IteratorGetNext:5' shape=(None,) dtype=int32>), ('movieAvgRating', <tf.Tensor 'IteratorGetNext:0' shape=(None,) dtype=float32>), ('movieRatingStddev', <tf.Tensor 'IteratorGetNext:6' shape=(None,) dtype=float32>), ('userRatedMovie1', <tf.Tensor 'IteratorGetNext:18' shape=(None,) dtype=int32>), ('userRatedMovie2', <tf.Tensor 'IteratorGetNext:19' shape=(None,) dtype=int32>), ('userRatedMovie3', <tf.Tensor 'IteratorGetNext:20' shape=(None,) dtype=int32>), ('userRatedMovie4', <tf.Tensor 'IteratorGetNext:21' shape=(None,) dtype=int32>), ('userRatedMovie5', <tf.Tensor 'IteratorGetNext:22' shape=(None,) dtype=int32>), ('userRatingCount', <tf.Tensor 'IteratorGetNext:23' shape=(None,) dtype=int32>), ('userAvgReleaseYear', <tf.Tensor 'IteratorGetNext:11' shape=(None,) dtype=int32>), ('userReleaseYearStddev', <tf.Tensor 'IteratorGetNext:25' shape=(None,) dtype=float32>), ('userAvgRating', <tf.Tensor 'IteratorGetNext:10' shape=(None,) dtype=float32>), ('userRatingStddev', <tf.Tensor 'IteratorGetNext:24' shape=(None,) dtype=float32>), ('userGenre1', <tf.Tensor 'IteratorGetNext:12' shape=(None,) dtype=string>), ('userGenre2', <tf.Tensor 'IteratorGetNext:13' shape=(None,) dtype=string>), ('userGenre3', <tf.Tensor 'IteratorGetNext:14' shape=(None,) dtype=string>), ('userGenre4', <tf.Tensor 'IteratorGetNext:15' shape=(None,) dtype=string>), ('userGenre5', <tf.Tensor 'IteratorGetNext:16' shape=(None,) dtype=string>)]). Consider rewriting this model with the Functional API.\n"
     ]
    },
    {
     "name": "stderr",
     "output_type": "stream",
     "text": [
      "2022-04-03 17:13:04.805055: I tensorflow/core/kernels/data/shuffle_dataset_op.cc:390] Filling up shuffle buffer (this may take a while): 9308 of 10000\n"
     ]
    },
    {
     "name": "stdout",
     "output_type": "stream",
     "text": [
      "     26/Unknown - 18s 4ms/step - loss: 23.8142 - accuracy: 0.5417 - auc: 0.5352 - auc_1: 0.5951"
     ]
    },
    {
     "name": "stderr",
     "output_type": "stream",
     "text": [
      "2022-04-03 17:13:10.757151: I tensorflow/core/kernels/data/shuffle_dataset_op.cc:415] Shuffle buffer filled.\n"
     ]
    },
    {
     "name": "stdout",
     "output_type": "stream",
     "text": [
      "7403/7403 [==============================] - 37s 2ms/step - loss: 3.9487 - accuracy: 0.5766 - auc: 0.5811 - auc_1: 0.6284\n",
      "Epoch 2/5\n"
     ]
    },
    {
     "name": "stderr",
     "output_type": "stream",
     "text": [
      "2022-04-03 17:13:39.371052: I tensorflow/core/kernels/data/shuffle_dataset_op.cc:390] Filling up shuffle buffer (this may take a while): 8289 of 10000\n",
      "2022-04-03 17:13:49.357201: I tensorflow/core/kernels/data/shuffle_dataset_op.cc:390] Filling up shuffle buffer (this may take a while): 9941 of 10000\n",
      "2022-04-03 17:13:49.497900: I tensorflow/core/kernels/data/shuffle_dataset_op.cc:415] Shuffle buffer filled.\n"
     ]
    },
    {
     "name": "stdout",
     "output_type": "stream",
     "text": [
      "7403/7403 [==============================] - 38s 2ms/step - loss: 0.7566 - accuracy: 0.6386 - auc: 0.6710 - auc_1: 0.7032\n",
      "Epoch 3/5\n"
     ]
    },
    {
     "name": "stderr",
     "output_type": "stream",
     "text": [
      "2022-04-03 17:14:17.670911: I tensorflow/core/kernels/data/shuffle_dataset_op.cc:390] Filling up shuffle buffer (this may take a while): 8735 of 10000\n"
     ]
    },
    {
     "name": "stdout",
     "output_type": "stream",
     "text": [
      "  20/7403 [..............................] - ETA: 19s - loss: 0.6186 - accuracy: 0.6542 - auc: 0.7080 - auc_1: 0.7108     "
     ]
    },
    {
     "name": "stderr",
     "output_type": "stream",
     "text": [
      "2022-04-03 17:14:27.174531: I tensorflow/core/kernels/data/shuffle_dataset_op.cc:415] Shuffle buffer filled.\n"
     ]
    },
    {
     "name": "stdout",
     "output_type": "stream",
     "text": [
      "7403/7403 [==============================] - 37s 2ms/step - loss: 0.6033 - accuracy: 0.6774 - auc: 0.7286 - auc_1: 0.7550\n",
      "Epoch 4/5\n"
     ]
    },
    {
     "name": "stderr",
     "output_type": "stream",
     "text": [
      "2022-04-03 17:14:54.542206: I tensorflow/core/kernels/data/shuffle_dataset_op.cc:390] Filling up shuffle buffer (this may take a while): 9466 of 10000\n",
      "2022-04-03 17:15:01.008632: I tensorflow/core/kernels/data/shuffle_dataset_op.cc:415] Shuffle buffer filled.\n"
     ]
    },
    {
     "name": "stdout",
     "output_type": "stream",
     "text": [
      "7403/7403 [==============================] - 34s 2ms/step - loss: 0.5936 - accuracy: 0.6840 - auc: 0.7396 - auc_1: 0.7660\n",
      "Epoch 5/5\n"
     ]
    },
    {
     "name": "stderr",
     "output_type": "stream",
     "text": [
      "2022-04-03 17:15:28.779281: I tensorflow/core/kernels/data/shuffle_dataset_op.cc:390] Filling up shuffle buffer (this may take a while): 8788 of 10000\n"
     ]
    },
    {
     "name": "stdout",
     "output_type": "stream",
     "text": [
      "  15/7403 [..............................] - ETA: 58s - loss: 0.6516 - accuracy: 0.6444 - auc: 0.6860 - auc_1: 0.7568   "
     ]
    },
    {
     "name": "stderr",
     "output_type": "stream",
     "text": [
      "2022-04-03 17:15:36.442481: I tensorflow/core/kernels/data/shuffle_dataset_op.cc:415] Shuffle buffer filled.\n"
     ]
    },
    {
     "name": "stdout",
     "output_type": "stream",
     "text": [
      "7403/7403 [==============================] - 35s 2ms/step - loss: 0.5887 - accuracy: 0.6894 - auc: 0.7457 - auc_1: 0.7707\n",
      "WARNING:tensorflow:Layers in a Sequential model should only have a single input tensor. Received: inputs=OrderedDict([('movieId', <tf.Tensor 'IteratorGetNext:4' shape=(None,) dtype=int32>), ('userId', <tf.Tensor 'IteratorGetNext:17' shape=(None,) dtype=int32>), ('rating', <tf.Tensor 'IteratorGetNext:7' shape=(None,) dtype=float32>), ('timestamp', <tf.Tensor 'IteratorGetNext:9' shape=(None,) dtype=int32>), ('releaseYear', <tf.Tensor 'IteratorGetNext:8' shape=(None,) dtype=int32>), ('movieGenre1', <tf.Tensor 'IteratorGetNext:1' shape=(None,) dtype=string>), ('movieGenre2', <tf.Tensor 'IteratorGetNext:2' shape=(None,) dtype=string>), ('movieGenre3', <tf.Tensor 'IteratorGetNext:3' shape=(None,) dtype=string>), ('movieRatingCount', <tf.Tensor 'IteratorGetNext:5' shape=(None,) dtype=int32>), ('movieAvgRating', <tf.Tensor 'IteratorGetNext:0' shape=(None,) dtype=float32>), ('movieRatingStddev', <tf.Tensor 'IteratorGetNext:6' shape=(None,) dtype=float32>), ('userRatedMovie1', <tf.Tensor 'IteratorGetNext:18' shape=(None,) dtype=int32>), ('userRatedMovie2', <tf.Tensor 'IteratorGetNext:19' shape=(None,) dtype=int32>), ('userRatedMovie3', <tf.Tensor 'IteratorGetNext:20' shape=(None,) dtype=int32>), ('userRatedMovie4', <tf.Tensor 'IteratorGetNext:21' shape=(None,) dtype=int32>), ('userRatedMovie5', <tf.Tensor 'IteratorGetNext:22' shape=(None,) dtype=int32>), ('userRatingCount', <tf.Tensor 'IteratorGetNext:23' shape=(None,) dtype=int32>), ('userAvgReleaseYear', <tf.Tensor 'IteratorGetNext:11' shape=(None,) dtype=int32>), ('userReleaseYearStddev', <tf.Tensor 'IteratorGetNext:25' shape=(None,) dtype=float32>), ('userAvgRating', <tf.Tensor 'IteratorGetNext:10' shape=(None,) dtype=float32>), ('userRatingStddev', <tf.Tensor 'IteratorGetNext:24' shape=(None,) dtype=float32>), ('userGenre1', <tf.Tensor 'IteratorGetNext:12' shape=(None,) dtype=string>), ('userGenre2', <tf.Tensor 'IteratorGetNext:13' shape=(None,) dtype=string>), ('userGenre3', <tf.Tensor 'IteratorGetNext:14' shape=(None,) dtype=string>), ('userGenre4', <tf.Tensor 'IteratorGetNext:15' shape=(None,) dtype=string>), ('userGenre5', <tf.Tensor 'IteratorGetNext:16' shape=(None,) dtype=string>)]). Consider rewriting this model with the Functional API.\n"
     ]
    },
    {
     "name": "stderr",
     "output_type": "stream",
     "text": [
      "2022-04-03 17:16:04.829842: I tensorflow/core/kernels/data/shuffle_dataset_op.cc:390] Filling up shuffle buffer (this may take a while): 9004 of 10000\n",
      "2022-04-03 17:16:14.163120: I tensorflow/core/kernels/data/shuffle_dataset_op.cc:415] Shuffle buffer filled.\n"
     ]
    },
    {
     "name": "stdout",
     "output_type": "stream",
     "text": [
      "1870/1870 [==============================] - 24s 2ms/step - loss: 0.6079 - accuracy: 0.6699 - auc: 0.7406 - auc_1: 0.7704\n",
      "\n",
      "\n",
      "Test Loss 0.6078851222991943, Test Accuracy 0.6698752045631409, Test ROC AUC 0.7406303286552429, Test PR AUC 0.7703824043273926\n",
      "WARNING:tensorflow:Layers in a Sequential model should only have a single input tensor. Received: inputs=OrderedDict([('movieId', <tf.Tensor 'IteratorGetNext:4' shape=(None,) dtype=int32>), ('userId', <tf.Tensor 'IteratorGetNext:17' shape=(None,) dtype=int32>), ('rating', <tf.Tensor 'IteratorGetNext:7' shape=(None,) dtype=float32>), ('timestamp', <tf.Tensor 'IteratorGetNext:9' shape=(None,) dtype=int32>), ('releaseYear', <tf.Tensor 'IteratorGetNext:8' shape=(None,) dtype=int32>), ('movieGenre1', <tf.Tensor 'IteratorGetNext:1' shape=(None,) dtype=string>), ('movieGenre2', <tf.Tensor 'IteratorGetNext:2' shape=(None,) dtype=string>), ('movieGenre3', <tf.Tensor 'IteratorGetNext:3' shape=(None,) dtype=string>), ('movieRatingCount', <tf.Tensor 'IteratorGetNext:5' shape=(None,) dtype=int32>), ('movieAvgRating', <tf.Tensor 'IteratorGetNext:0' shape=(None,) dtype=float32>), ('movieRatingStddev', <tf.Tensor 'IteratorGetNext:6' shape=(None,) dtype=float32>), ('userRatedMovie1', <tf.Tensor 'IteratorGetNext:18' shape=(None,) dtype=int32>), ('userRatedMovie2', <tf.Tensor 'IteratorGetNext:19' shape=(None,) dtype=int32>), ('userRatedMovie3', <tf.Tensor 'IteratorGetNext:20' shape=(None,) dtype=int32>), ('userRatedMovie4', <tf.Tensor 'IteratorGetNext:21' shape=(None,) dtype=int32>), ('userRatedMovie5', <tf.Tensor 'IteratorGetNext:22' shape=(None,) dtype=int32>), ('userRatingCount', <tf.Tensor 'IteratorGetNext:23' shape=(None,) dtype=int32>), ('userAvgReleaseYear', <tf.Tensor 'IteratorGetNext:11' shape=(None,) dtype=int32>), ('userReleaseYearStddev', <tf.Tensor 'IteratorGetNext:25' shape=(None,) dtype=float32>), ('userAvgRating', <tf.Tensor 'IteratorGetNext:10' shape=(None,) dtype=float32>), ('userRatingStddev', <tf.Tensor 'IteratorGetNext:24' shape=(None,) dtype=float32>), ('userGenre1', <tf.Tensor 'IteratorGetNext:12' shape=(None,) dtype=string>), ('userGenre2', <tf.Tensor 'IteratorGetNext:13' shape=(None,) dtype=string>), ('userGenre3', <tf.Tensor 'IteratorGetNext:14' shape=(None,) dtype=string>), ('userGenre4', <tf.Tensor 'IteratorGetNext:15' shape=(None,) dtype=string>), ('userGenre5', <tf.Tensor 'IteratorGetNext:16' shape=(None,) dtype=string>)]). Consider rewriting this model with the Functional API.\n"
     ]
    },
    {
     "name": "stderr",
     "output_type": "stream",
     "text": [
      "2022-04-03 17:16:39.770524: I tensorflow/core/kernels/data/shuffle_dataset_op.cc:390] Filling up shuffle buffer (this may take a while): 9682 of 10000\n",
      "2022-04-03 17:16:43.692995: I tensorflow/core/kernels/data/shuffle_dataset_op.cc:415] Shuffle buffer filled.\n"
     ]
    },
    {
     "name": "stdout",
     "output_type": "stream",
     "text": [
      "Predicted good rating: 44.93%  | Actual rating label:  Bad Rating\n",
      "Predicted good rating: 69.47%  | Actual rating label:  Bad Rating\n",
      "Predicted good rating: 34.47%  | Actual rating label:  Good Rating\n",
      "Predicted good rating: 41.83%  | Actual rating label:  Good Rating\n",
      "Predicted good rating: 17.55%  | Actual rating label:  Good Rating\n",
      "Predicted good rating: 28.79%  | Actual rating label:  Bad Rating\n",
      "Predicted good rating: 31.67%  | Actual rating label:  Good Rating\n",
      "Predicted good rating: 54.53%  | Actual rating label:  Bad Rating\n",
      "Predicted good rating: 78.18%  | Actual rating label:  Good Rating\n",
      "Predicted good rating: 59.13%  | Actual rating label:  Good Rating\n",
      "Predicted good rating: 48.56%  | Actual rating label:  Good Rating\n",
      "Predicted good rating: 49.76%  | Actual rating label:  Bad Rating\n"
     ]
    }
   ],
   "source": [
    "# compile the model, set loss function, optimizer and evaluation metrics\n",
    "model.compile(\n",
    "    loss='binary_crossentropy',\n",
    "    optimizer='adam',\n",
    "    metrics=['accuracy', tf.keras.metrics.AUC(curve='ROC'), tf.keras.metrics.AUC(curve='PR')])\n",
    "\n",
    "# train the model\n",
    "model.fit(train_dataset, epochs=5)\n",
    "\n",
    "# evaluate the model\n",
    "test_loss, test_accuracy, test_roc_auc, test_pr_auc = model.evaluate(test_dataset)\n",
    "print('\\n\\nTest Loss {}, Test Accuracy {}, Test ROC AUC {}, Test PR AUC {}'.format(test_loss, test_accuracy,\n",
    "                                                                                   test_roc_auc, test_pr_auc))\n",
    "\n",
    "# print some predict results\n",
    "predictions = model.predict(test_dataset)\n",
    "for prediction, goodRating in zip(predictions[:12], list(test_dataset)[0][1][:12]):\n",
    "    print(\"Predicted good rating: {:.2%}\".format(prediction[0]),\n",
    "          \" | Actual rating label: \",\n",
    "          (\"Good Rating\" if bool(goodRating) else \"Bad Rating\"))"
   ]
  }
 ],
 "metadata": {
  "kernelspec": {
   "display_name": "Python 3 (ipykernel)",
   "language": "python",
   "name": "python3"
  },
  "language_info": {
   "codemirror_mode": {
    "name": "ipython",
    "version": 3
   },
   "file_extension": ".py",
   "mimetype": "text/x-python",
   "name": "python",
   "nbconvert_exporter": "python",
   "pygments_lexer": "ipython3",
   "version": "3.9.7"
  }
 },
 "nbformat": 4,
 "nbformat_minor": 5
}
